{
  "nbformat": 4,
  "nbformat_minor": 0,
  "metadata": {
    "colab": {
      "provenance": []
    },
    "kernelspec": {
      "name": "python3",
      "display_name": "Python 3"
    }
  },
  "cells": [
    {
      "cell_type": "markdown",
      "metadata": {
        "id": "ST5d6dw3dLZh"
      },
      "source": [
        "# **AP157 Machine Learning Lab Assignment**\n",
        "## Module A.2: Classification -- Morphological Classification of Galaxies using Decision Trees\n",
        "\n",
        "_Instructions_: Answer each part of the assignment as completely as you can. Discuss **all** your code and results as clearly and concisely as possible.\n",
        "\n",
        "_Scoring Criteria_: 50% - *correctness of code*; 50% - *discussion of the code and results*. Maximum score is **100 points** (Parts 1, 2, and 3 are worth 20, 40, and 40 points, respectively).\n",
        "\n",
        "_Credits_: This assignment is based on the Week 6 module of the Coursera course \"Data-driven Astronomy\", \"Exploring machine learning classification\" ([link](https://www.coursera.org/learn/data-driven-astronomy/home/welcome))"
      ]
    },
    {
      "cell_type": "markdown",
      "metadata": {
        "id": "iZZaEzKHdVYG"
      },
      "source": [
        "### Student Information\n",
        "\n",
        "_Full Name (Last Name, First Name)_: Escaran, Jed Jerrel K.\\\n",
        "_Student No._: 2021-07451\\\n",
        "_Section_: THY-TX-1"
      ]
    },
    {
      "cell_type": "markdown",
      "metadata": {
        "id": "Xv1STpPodaDL"
      },
      "source": [
        "### Submission Information\n",
        "\n",
        "_Date and Time Submitted (most recent upload)_: 05/03/2024 12:59pm\n",
        "\n",
        "**HONOR PLEDGE** I affirm that I have upheld the highest principles of honesty and integrity in my academic work and that this lab assignment is my own work.\n",
        "\n",
        "**Sign here with your full name: JED JERREL ESCARAN**"
      ]
    },
    {
      "cell_type": "markdown",
      "metadata": {
        "id": "8zw1kC_rdoHT"
      },
      "source": [
        "### Grading Information (c/o Instructor)\n",
        "\n",
        "TOTAL SCORE: **[]**/100\n",
        "\n",
        "Score breakdown:\n",
        "* Part 1 - []/20\n",
        "* Part 2 - []/40\n",
        "* Part 3 - []/40\n",
        "\n",
        "_Date and Time Scored (MM/DD/YYYY HH:MM AM/PM):_"
      ]
    },
    {
      "cell_type": "markdown",
      "metadata": {
        "id": "UNaYs-MfeDRl"
      },
      "source": [
        "For this assignment, you will work with galaxy data from the\n",
        "Sloan Digital Sky Survey (SDSS). First, you need to make a copy of the binary file ```galaxy_catalogue.npy``` and save it to a folder in your **own Google Drive**. This file is available from the AP157 Machine Learning Google Drive (under the Datasets folder).\n",
        "\n",
        "The code cells below will (1) mount your Google Drive and (2) load ```galaxy_catalogue.npy``` from your Google Drive folder."
      ]
    },
    {
      "cell_type": "markdown",
      "metadata": {
        "id": "ee1mHlUWfcsc"
      },
      "source": [
        "Mount the Google Drive where you saved the .npy file.\n",
        "\n",
        "When you run this cell, you will be asked to sign in to your Google account and you will get an authorization code. Paste the code on the provided cell to mount the Google Drive."
      ]
    },
    {
      "cell_type": "code",
      "metadata": {
        "id": "yH0IOwb1YBHc",
        "colab": {
          "base_uri": "https://localhost:8080/"
        },
        "outputId": "b14eb5ae-72ba-4bde-db96-65774ca29826"
      },
      "source": [
        "from google.colab import drive\n",
        "drive.mount(\"/content/drive\")"
      ],
      "execution_count": 1,
      "outputs": [
        {
          "output_type": "stream",
          "name": "stdout",
          "text": [
            "Mounted at /content/drive\n"
          ]
        }
      ]
    },
    {
      "cell_type": "markdown",
      "metadata": {
        "id": "k0C5c-8ofqDu"
      },
      "source": [
        "Run this command to list the directories in your Google Drive and check that the mount was successful."
      ]
    },
    {
      "cell_type": "code",
      "metadata": {
        "id": "mzKLlj20fsJu"
      },
      "source": [
        "#!ls drive/My\\ Drive"
      ],
      "execution_count": 2,
      "outputs": []
    },
    {
      "cell_type": "markdown",
      "metadata": {
        "id": "XPLuh_jWfju8"
      },
      "source": [
        "Define the directory path to the location of the file, i.e. if it is in a\n",
        "folder named \"AP157\" under My Drive, then the file path will be \"/content/drive/My Drive/AP157\". Change the string variable in the code cell below, as needed:"
      ]
    },
    {
      "cell_type": "code",
      "metadata": {
        "id": "jRpIuwdigDg5"
      },
      "source": [
        "file_path = \"/content/drive/My Drive/157/\""
      ],
      "execution_count": 3,
      "outputs": []
    },
    {
      "cell_type": "markdown",
      "metadata": {
        "id": "VW7RFRGaik-6"
      },
      "source": [
        "Now, we can load the file using $\\tt numpy$'s $\\tt load$ function below.\n",
        "\n",
        "\n",
        "\n"
      ]
    },
    {
      "cell_type": "code",
      "metadata": {
        "id": "y61tYmPIimUv"
      },
      "source": [
        "import numpy as np\n",
        "\n",
        "data = np.load(file_path + 'galaxy_catalogue.npy')"
      ],
      "execution_count": 4,
      "outputs": []
    },
    {
      "cell_type": "markdown",
      "metadata": {
        "id": "HpXP16UfWHQK"
      },
      "source": [
        "Print out the first couple of rows. Note that the columns are: $u-g$, $g-r$, $r-i$, $i-z$, eccentricity, $m_u$, $m_g$, $m_r$, $m_i$, $m_z$, $R_{50,u}$, $R_{50,r}$, $R_{50,z}$, $R_{90,u}$, $R_{90,r}$, $R_{90,z}$, and class."
      ]
    },
    {
      "cell_type": "code",
      "metadata": {
        "id": "HbQiDjyIWsjr",
        "colab": {
          "base_uri": "https://localhost:8080/"
        },
        "outputId": "84396f02-2886-4069-9031-66f45b75bea4"
      },
      "source": [
        "data[:2]"
      ],
      "execution_count": 5,
      "outputs": [
        {
          "output_type": "execute_result",
          "data": {
            "text/plain": [
              "array([(1.85765, 0.67158, 0.4231 , 0.3061 , 0.5854284, 2.251946, 2.339849, 2.380652, 2.359738, 2.395528, 3.095123, 3.818919, 3.82623 , 5.174814, 8.263009, 11.47734 , 'merger'),\n",
              "       (1.74259, 0.86085, 0.44927, 0.28851, 0.7498125, 2.031566, 2.084156, 2.092272, 2.124075, 2.133154, 1.430436, 1.422533, 1.385727, 3.732712, 3.416921,  3.330347, 'merger')],\n",
              "      dtype=[('u-g', '<f8'), ('g-r', '<f8'), ('r-i', '<f8'), ('i-z', '<f8'), ('ecc', '<f8'), ('m4_u', '<f8'), ('m4_g', '<f8'), ('m4_r', '<f8'), ('m4_i', '<f8'), ('m4_z', '<f8'), ('petroR50_u', '<f8'), ('petroR50_r', '<f8'), ('petroR50_z', '<f8'), ('petroR90_u', '<f8'), ('petroR90_r', '<f8'), ('petroR90_z', '<f8'), ('class', '<U20')])"
            ]
          },
          "metadata": {},
          "execution_count": 5
        }
      ]
    },
    {
      "cell_type": "markdown",
      "metadata": {
        "id": "_eq2V7xzFtq7"
      },
      "source": [
        "#### PART 1 - Get features and targets *(20 pts.)*\n",
        "\n",
        "Write a function ```get_features_targets``` that splits the dataset into input features and their corresponding targets. In our case, the inputs are the 4 galaxy colors ($u-g$, $g-r$, $r-i$, and $i-z$), eccentricity, $ugriz$ magnitudes, and concentrations $R_{50}/R_{90}$ in the $u$, $r$, and $z$ bands. The targets are the classes.\n",
        "\n",
        "Here's an example of how your function should work:\n",
        "```\n",
        ">>> features, targets = get_features_targets(data)\n",
        ">>> print(\"Features shape:\", features.shape\n",
        ">>> print(\"Targets shape:\", targets.shape)\n",
        "Features shape: (780, 13)\n",
        "Targets shape: (780,)\n",
        "```"
      ]
    },
    {
      "cell_type": "code",
      "metadata": {
        "id": "mfMtufdukBnu"
      },
      "source": [
        "import pandas as pd\n",
        "import numpy as np\n",
        "\n",
        "data_pd = pd.DataFrame(data)                                                    # converting data to pandas dataframe for easier data manipulation\n",
        "#print(data_pd)\n",
        "r50u_index = data_pd.columns.get_loc('petroR50_r') - 1                          # taking the index of r50u, -1 to account for index 0\n",
        "r90_index = r50u_index + 3                                                      # +3 since theres u,r,z so r90u starts 3 indexes after r50u\n",
        "\n",
        "def get_features_targets(data_pd):\n",
        "  r50_div_r90 = []                                                              # for storing r50/r90 values\n",
        "  for i in range(3):                                                            # range 3 since u,r,z\n",
        "    div = data_pd.iloc[:,r50u_index + i] / data_pd.iloc[:,r90_index + i]        # r50/r90\n",
        "    r50_div_r90.append(div)\n",
        "  r50_div_r90_pd = pd.DataFrame(r50_div_r90).T                                  # transposing to match data.pd shape and to be able to use pd.concat\n",
        "  r50_div_r90_pd.columns = ['R50/R90_u','R50/R90_r','R50/R90_z']                # labeling\n",
        "\n",
        "  features_with_div = pd.concat([data_pd.iloc[:,:10],r50_div_r90_pd], axis = 1) # adjoining r50/r90 with the rest of the preceeding data\n",
        "\n",
        "  targets = data_pd.iloc[:,-1]                                                  # taking the last column as targets\n",
        "\n",
        "  return features_with_div , targets                                            # returning"
      ],
      "execution_count": 6,
      "outputs": []
    },
    {
      "cell_type": "code",
      "source": [
        "features,targets = get_features_targets(data_pd)                                # calling func\n",
        "print(\"Features shape:\", features.shape)                                        # verifying shape\n",
        "print(\"Targets shape:\", targets.shape)"
      ],
      "metadata": {
        "colab": {
          "base_uri": "https://localhost:8080/"
        },
        "id": "Q2jrauldkBs9",
        "outputId": "f49e6a82-a081-425e-eacf-5d2d87966fea"
      },
      "execution_count": 7,
      "outputs": [
        {
          "output_type": "stream",
          "name": "stdout",
          "text": [
            "Features shape: (780, 13)\n",
            "Targets shape: (780,)\n"
          ]
        }
      ]
    },
    {
      "cell_type": "markdown",
      "source": [
        "After splitting, the shape of the features and target dataset match with the aforementioned expected shape."
      ],
      "metadata": {
        "id": "o8zEq0THUWQU"
      }
    },
    {
      "cell_type": "markdown",
      "metadata": {
        "id": "vnePPYpJNWoY"
      },
      "source": [
        "#### PART 2 - Train and run a decision tree model *(40 pts.)*\n",
        "\n",
        "Write a function ```predict_class``` that will train and validate a model that predicts a galaxy's class from its photometric properties. In particular, it should do the following:\n",
        "1. Split the dataset into a training and test dataset using an 80:20 split.\n",
        "2. Train the input model using the training dataset features and targets.\n",
        "3. Return two arrays-- the predicted and actual class of the test galaxies.\n",
        "\n",
        "Here's an example of how your function should work:\n",
        "```\n",
        "import numpy as np\n",
        "from sklearn.tree import DecisionTreeClassifier\n",
        "\n",
        "data = np.load(file_path + 'galaxy_catalogue.npy')\n",
        "predicted_class, actual_class = predict_class(data)\n",
        "\n",
        "for i in np.arange(3):\n",
        "   print(\"%d, %s, %s\" & (i, predicted_class[i], actual_class[i]))\n",
        "```"
      ]
    },
    {
      "cell_type": "code",
      "metadata": {
        "id": "ydeUh_Tzvf0n"
      },
      "source": [
        "from sklearn.tree import DecisionTreeClassifier                                 # importing decision tree classifier\n",
        "from sklearn.model_selection import train_test_split                            # train_test_split function\n",
        "from sklearn import metrics                                                     # scikit-learn metrics module for accuracy calculation\n",
        "\n",
        "def predict_class(features, targets):\n",
        "  f_train, f_test, t_train, t_test = train_test_split(features, targets, test_size=0.20)  # splitting to 80% training and 20% test\n",
        "\n",
        "  clf = DecisionTreeClassifier()                                                # create decision tree classifer object\n",
        "  clf = clf.fit(f_train,t_train)                                                # training classifier\n",
        "\n",
        "  t_pred = clf.predict(f_test)                                                  # testing/predicting the response for test dataset\n",
        "  t_pred = pd.Series(t_pred)                                                    # converting to pd series\n",
        "\n",
        "  return t_pred, t_test                                                         # returning predicted and actual values"
      ],
      "execution_count": 8,
      "outputs": []
    },
    {
      "cell_type": "code",
      "source": [
        "predicted, actual = predict_class(features, targets)\n",
        "\n",
        "# to check confusion map if accurate\n",
        "print('Predicted values:')\n",
        "print(predicted.value_counts())\n",
        "print('Actual values:')\n",
        "print(actual.value_counts())"
      ],
      "metadata": {
        "id": "CmlogFj5CMes",
        "colab": {
          "base_uri": "https://localhost:8080/"
        },
        "outputId": "372b8722-6320-41b9-c3ce-974b689be088"
      },
      "execution_count": 9,
      "outputs": [
        {
          "output_type": "stream",
          "name": "stdout",
          "text": [
            "Predicted values:\n",
            "elliptical    54\n",
            "merger        52\n",
            "spiral        50\n",
            "dtype: int64\n",
            "Actual values:\n",
            "elliptical    58\n",
            "merger        52\n",
            "spiral        46\n",
            "Name: class, dtype: int64\n"
          ]
        }
      ]
    },
    {
      "cell_type": "markdown",
      "source": [
        "Manually counting/cross-checking the predicted and actual values with the generated heat map below, we can verify that the labels and the confusion matrix itself is accurate."
      ],
      "metadata": {
        "id": "SLkRiVxzXhk9"
      }
    },
    {
      "cell_type": "markdown",
      "metadata": {
        "id": "hlSp5k92OjuM"
      },
      "source": [
        "#### PART 3 - Confusion matrix and accuracy *(40 pts.)*\n",
        "\n",
        "1. Get the confusion matrix for your test dataset-- this is a 3 x 3 matrix with the counts for each combination of actual and predicted class. *(25 pts.)*\n",
        "\n",
        "2. Get the test accuracy of your decision tree classifer, defined as the number of correct predictions divided by the total number of predictions. *(15 pts.)*"
      ]
    },
    {
      "cell_type": "code",
      "metadata": {
        "id": "OZXvnOSLdH_k",
        "colab": {
          "base_uri": "https://localhost:8080/",
          "height": 410
        },
        "outputId": "2c99d118-3e26-4555-a5c4-8248cec75ab6"
      },
      "source": [
        "from sklearn.metrics import confusion_matrix                                    # for making the confusion matrix\n",
        "from matplotlib import pyplot as plt\n",
        "import seaborn as sns                                                           # to present the confusion matrix\n",
        "\n",
        "cm = confusion_matrix(actual, predicted)                                        # taking actual and predicted data and making a confusion matrix out of it\n",
        "cm_df = pd.DataFrame(cm,                                                        # converting to pd dataframe, adding labels\n",
        "                     index = ['elliptical','merger','spiral'],\n",
        "                     columns = ['elliptical','merger','spiral'])\n",
        "\n",
        "                                                                                # plotting the confusion matrix\n",
        "plt.figure(figsize=(5,4))\n",
        "sns.heatmap(cm_df, cmap='Reds', fmt='.0f', annot=True)\n",
        "plt.title('Confusion Matrix')\n",
        "plt.ylabel('Actual Values')\n",
        "plt.xlabel('Predicted Values')\n",
        "plt.show()"
      ],
      "execution_count": 10,
      "outputs": [
        {
          "output_type": "display_data",
          "data": {
            "text/plain": [
              "<Figure size 500x400 with 2 Axes>"
            ],
            "image/png": "[encoded data removed]"
          },
          "metadata": {}
        }
      ]
    },
    {
      "cell_type": "markdown",
      "source": [
        "From the heatmap, we can see that the model was trained well and was able to accurately predict the classifications of our test set. The accuracy is computed below:\n"
      ],
      "metadata": {
        "id": "E6FEp5K6X4dU"
      }
    },
    {
      "cell_type": "code",
      "source": [
        "print(\"Accuracy:\",metrics.accuracy_score(actual, predicted))"
      ],
      "metadata": {
        "colab": {
          "base_uri": "https://localhost:8080/"
        },
        "id": "vlfzz_TJIbch",
        "outputId": "d3a52673-98ec-434f-f39e-e344c5378991"
      },
      "execution_count": 11,
      "outputs": [
        {
          "output_type": "stream",
          "name": "stdout",
          "text": [
            "Accuracy: 0.8333333333333334\n"
          ]
        }
      ]
    }
  ]
}