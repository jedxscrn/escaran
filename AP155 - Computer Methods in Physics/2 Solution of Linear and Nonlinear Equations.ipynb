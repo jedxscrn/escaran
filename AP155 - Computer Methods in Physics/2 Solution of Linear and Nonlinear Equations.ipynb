{
 "cells": [
  {
   "cell_type": "markdown",
   "metadata": {
    "id": "G0BcK0H_G1Iu"
   },
   "source": [
    "# **AP155 Lab Assignment**\n",
    "## Module 2: Solution of Linear and Nonlinear Equations\n",
    "\n",
    "_Instructions_: Answer each problem as completely as you can. Discuss **all** your answers as clearly and concisely as possible.\n",
    "\n",
    "_Scoring Criteria_: 50% - *correctness of code*; 50% - *discussion of the code and results*. Maximum score is **100 points**.\n",
    "\n"
   ]
  },
  {
   "cell_type": "markdown",
   "metadata": {
    "id": "PeHZ9kP8JaVR"
   },
   "source": [
    "### Student Information\n",
    "\n",
    "_Full Name (Last Name, First Name)_: \\ Escaran, Jed Jerrel\n",
    "_Student No._:\\ 2021-07451\n",
    "_Section_: THU-HX-3"
   ]
  },
  {
   "cell_type": "markdown",
   "metadata": {
    "id": "Hc183co-J4eI"
   },
   "source": [
    "### Submission Information\n",
    "\n",
    "_Date and Time Submitted (most recent upload)_: Nov. 9, 2023 1:40 AM\n",
    "\n",
    "**HONOR PLEDGE** I affirm that I have upheld the highest principles of honesty and integrity in my academic work and that this lab assignment is my own work.\n",
    "\n",
    "**Sign here with your full name:** Jed Jerrel Escaran"
   ]
  },
  {
   "cell_type": "markdown",
   "metadata": {
    "id": "4LUwfsfMBmvd"
   },
   "source": [
    "### Grading Information (c/o Lab Instructor)\n",
    "\n",
    "TOTAL SCORE: **XX**/100\n",
    "\n",
    "Score breakdown:\n",
    "* Problem 1 - 28/30\n",
    "* Problem 2 - 23/30\n",
    "* Problem 3 - 33/40\n",
    "\n"
   ]
  },
  {
   "cell_type": "markdown",
   "metadata": {
    "id": "kBX9EyMLOnXj"
   },
   "source": [
    "### PROBLEM 1\n",
    "\n",
    "**Solve for eigenvalues and eigenvectors of a symmetric matrix**\n",
    "\n",
    "1. Use numpy's $\\tt linalg$ package to find the eigenvalues and eigenvectors of the ff. symmetrix matrix *(15 pts.)*:\n",
    "\n",
    "$ \\begin{equation}\n",
    "{\\bf A} =\n",
    "\\begin{pmatrix}\n",
    "8 & -2 & -20 \\\\\n",
    "-2 & -3 & -9 \\\\\n",
    "-20 & -9 & -3\n",
    "\\end{pmatrix} \\end{equation} $\n",
    "\n",
    "2. Check your answer numerically; that is, check that $\\bf AV = VD$, where the $N$ x $N$ matrix $\\bf V$ has the eigenvectors as its columns and $\\bf D$ is the diagonal matrix with the eigenvalues $\\lambda_i$ as its diagonal entries. *(15 pts.)*"
   ]
  },
  {
   "cell_type": "code",
   "execution_count": 7,
   "metadata": {
    "colab": {
     "base_uri": "https://localhost:8080/"
    },
    "id": "GABjwlXCR97i",
    "outputId": "5c55e955-356d-4b57-ed08-f8e6417828ed"
   },
   "outputs": [
    {
     "name": "stdout",
     "output_type": "stream",
     "text": [
      "eigenvalues: \n",
      "[-21.99606195   0.16021522  23.83584674]\n",
      "eigenvectors: \n",
      "[[ 0.52496527  0.36793396 -0.76748685]\n",
      " [ 0.40892672 -0.89987151 -0.15169114]\n",
      " [ 0.74645187  0.2342133   0.62285932]]\n",
      "AV= \n",
      "[[-11.54716868   0.05894862 -18.29369893]\n",
      " [ -8.99477756  -0.14417311  -3.61568676]\n",
      " [-16.4190016    0.03752454  14.8463793 ]]\n",
      "VD= \n",
      "[[-11.54716868   0.05894862 -18.29369893]\n",
      " [ -8.99477756  -0.14417311  -3.61568676]\n",
      " [-16.4190016    0.03752454  14.8463793 ]]\n",
      "AV = VD\n"
     ]
    }
   ],
   "source": [
    "import numpy as np\n",
    "\n",
    "A = [[8, -2, -20],                            # given matrix\n",
    "     [-2, -3, -9],\n",
    "     [-20, -9, -3]]\n",
    "\n",
    "vals , vecs = np.linalg.eigh(A)               # initializing and using numpy's linalg package to find eigenvalues and eigenvectors\n",
    "\n",
    "print('eigenvalues: \\n' + str(vals))\n",
    "print('eigenvectors: \\n' + str(vecs))\n",
    "                                              # to check if AV = VD\n",
    "AV = np.dot(A, vecs)                          # A dot V\n",
    "VD = np.dot(vecs, np.diag(vals))              # V dot D\n",
    "\n",
    "print('AV= \\n' + str(AV))\n",
    "print('VD= \\n' + str(VD))\n",
    "\n",
    "result = str(AV) == str(VD)                   # if equal, result will print AV = VD\n",
    "if result == 1: print('AV = VD')\n",
    "else: print('AV != VD')"
   ]
  },
  {
   "cell_type": "markdown",
   "metadata": {},
   "source": [
    "<span style=\"color:blue\">Checking the equality between AV and VD should be modified since equality between the strings does not utilize the full representation precision available. One can for example calculate the Frobenius norm ||AV - VD|| and check if this is below a certain very small cutoff and that becomes the check for equality.</span>"
   ]
  },
  {
   "cell_type": "markdown",
   "metadata": {
    "id": "HceOjNu-VfN9"
   },
   "source": [
    "### PROBLEM 2\n",
    "\n",
    "**Solve a nonlinear equation using the relaxation method**\n",
    "\n",
    "Consider the equation $x=1- e^{-cx}$, where $c$ is a known parameter and $x$ is unknown. This equation arises in a variety of situations, including the physics of contact processes, mathematical models of epidemics, and the theory of random graphs.\n",
    "\n",
    "1. Write a program to solve this equation for $x$ using the relaxation method for the case $c = 2$. Calculate your solution to an accuracy of at least $10^{-6}$. *(10 pts.)*\n",
    "\n",
    "2. Modify your program to calculate the solution for values of $c$ from 0 to 3 in steps of 0.01. *(10 pts.)*\n",
    "\n",
    "3. Make a plot of $x$ as a function of $c$. Describe the different regimes that you see. *(10 pts.)*"
   ]
  },
  {
   "cell_type": "code",
   "execution_count": 8,
   "metadata": {
    "colab": {
     "base_uri": "https://localhost:8080/"
    },
    "id": "p28JF-OQYock",
    "outputId": "6305cc90-b8b0-43d5-831a-c1554dc161b7"
   },
   "outputs": [
    {
     "name": "stdout",
     "output_type": "stream",
     "text": [
      "0.8646647167633873\n",
      "0.8225966691808597\n",
      "0.8070247503317746\n",
      "0.8009201942366403\n",
      "0.7984747083247583\n",
      "0.7974866394625985\n",
      "0.797086049491047\n",
      "0.796923413762181\n",
      "0.7968573480008734\n",
      "0.7968305046795713\n",
      "0.7968195968986895\n",
      "0.7968151643557075\n",
      "0.7968133630966887\n",
      "0.7968126311118457\n"
     ]
    }
   ],
   "source": [
    "from math import exp\n",
    "\n",
    "x1 = 1.0                                            # initial value for x\n",
    "error = 1.0                                         # initial value for error\n",
    "accuracy = 1e-6                                     # given accuracy\n",
    "\n",
    "while error > accuracy:\n",
    "  x1,x2 = 1 - exp(-2*x1),x1                         # copying old x1 to x2, and making x1 as the result of the equation with x = x1\n",
    "  error = abs((x1-x2)/(1-(1/(2*exp(-2*x2)))))       # calculating error using equation 6.83 from Mark Newmann Computational Physics book\n",
    "  print(x1)\n"
   ]
  },
  {
   "cell_type": "markdown",
   "metadata": {},
   "source": [
    "<span style=\"color:blue\"> It is best practice to code in a failsafe for the relaxation process - and in your numerical methods in general. What if the relaxation method never converges (all solutions are unstable or repelling)? A quick remedy would be to add in a maximum number of iterations so your code cannot run forever.\n",
    "</span>"
   ]
  },
  {
   "cell_type": "code",
   "execution_count": 9,
   "metadata": {
    "colab": {
     "base_uri": "https://localhost:8080/",
     "height": 443
    },
    "id": "T6KY5jD2K__z",
    "outputId": "606bab74-3c16-4c43-da4f-2aadaca79a70"
   },
   "outputs": [
    {
     "data": {
      "text/plain": [
       "<function matplotlib.pyplot.show(close=None, block=None)>"
      ]
     },
     "execution_count": 9,
     "metadata": {},
     "output_type": "execute_result"
    },
    {
     "data": {
      "image/png": "[encoded data removed]",
      "text/plain": [
       "<Figure size 800x450 with 1 Axes>"
      ]
     },
     "metadata": {},
     "output_type": "display_data"
    }
   ],
   "source": [
    "import numpy as np\n",
    "import matplotlib.pyplot as plt\n",
    "a = 0                                               # c lower bound\n",
    "b = 3                                               # c upper bound\n",
    "step = 0.01                                         # given interval/step\n",
    "solns = []                                          # to store solutions for each step\n",
    "c_vals = np.arange(a, b + step, step)               # array of c's from 0.00 to 3.00 with step 0.01\n",
    "accuracy = 1e-6\n",
    "\n",
    "for i in c_vals:                                    # for each value of c in array r\n",
    "  x1 = 1.0                                          # initial value for x\n",
    "  error = 1.0                                       # initial value for error\n",
    "  while error > accuracy:\n",
    "    x1,x2 = 1 - exp(-i*x1),x1                       # copying old x1 to x2, and making x1 as the result of the equation with x = x1\n",
    "    error = abs((x1-x2)/(1-(1/(2*exp(-i*x2)))))     # calculating error using equation 6.83 from Mark Newmann Computational Physics book\n",
    "  solns=np.append(solns, x1)                        # appending x1 (the result) to solns (array of results for each c value)\n",
    "\n",
    "\n",
    "plt.figure(figsize=(8,4.5))                         # ploting of x as a function of  c\n",
    "plt.scatter(c_vals,solns, marker='.', s=10)\n",
    "plt.xlabel('c')\n",
    "plt.ylabel('x')\n",
    "plt.xlim()\n",
    "plt.show"
   ]
  },
  {
   "cell_type": "markdown",
   "metadata": {
    "id": "tHLyA5JJABMN"
   },
   "source": [
    "as can be seen in the plot, for c at 0 until 1.0, x values are 0.0. this may indicate that for c values less than 1.01, the x value obtained using the relaxation method is zero. as c values increase, the x values slowly approach the final/correct answer"
   ]
  },
  {
   "cell_type": "markdown",
   "metadata": {},
   "source": [
    "<span style=\"color:blue\">All the values here are correct, for a given value of c. In fact, even with c > 1, you can easily show just by plugging it in that x = 0 remains a solution to the equation. </span>"
   ]
  },
  {
   "cell_type": "markdown",
   "metadata": {
    "id": "BY5x-mZsYoqG"
   },
   "source": [
    "### PROBLEM 3\n",
    "\n",
    "**Physics Application: Calculating the Lagrange point**\n",
    "\n",
    "_Refer to Exercise 6.16 of the Newman text._ The $L_1$ Lagrange point is the point between the Earth and the Moon at which a satellite will orbit the Earth in perfect synchrony with the Moon, staying always in between the two.\n",
    "\n",
    "Assuming circular orbits, and assuming that the Earth is much more massive than either the Moon or the satellite, the distance $r$ from the center of the Earth to the $L_1$ point satisfies\n",
    "$$ \\begin{equation}\n",
    "\\frac{GM}{r^2} - \\frac{Gm}{(R-r)^2} = \\omega^2 r,\n",
    "\\end{equation} $$\n",
    "where $R$ is the distance from the Earth to the Moon, $M$ and $m$ are the Earth and Moon masses, $G$ is Newton's gravitational constant, and $\\omega$ is the angular velocity of both the Moon and the satellite."
   ]
  },
  {
   "cell_type": "markdown",
   "metadata": {
    "id": "LlDDXIZ46CKU"
   },
   "source": [
    "Use Newton's method to solve for the distance r from the Earth to the $L_1$ point. Compute a solution accurate to at least four significant figures."
   ]
  },
  {
   "cell_type": "code",
   "execution_count": 10,
   "metadata": {
    "colab": {
     "base_uri": "https://localhost:8080/"
    },
    "id": "Jiu5YAx6aMmq",
    "outputId": "fb81cc1b-b14f-40d8-a41e-d9b24ebed89a"
   },
   "outputs": [
    {
     "name": "stdout",
     "output_type": "stream",
     "text": [
      "326903699.752806\n"
     ]
    }
   ],
   "source": [
    "import matplotlib.pyplot as plt\n",
    "def f(G, M, m, R, w, r):\n",
    "  return ((G * M / r**2) - (G * m / (R - r)**2)) - w**2 * r           # f(x)\n",
    "\n",
    "def df(G, M, m, R, w, r):\n",
    "  return -((2*G*M)/r**3)-((2*G*m)/(R-r)**3)-w**2                      # f'(x)\n",
    "\n",
    "\n",
    "G = 6.674 * 10**(-11)                                                 # constants\n",
    "M = 5.974 * 10**(24)\n",
    "m = 7.348 * 10**(22)\n",
    "R = 3.844 * 10**(8)\n",
    "w = 2.622 * 10**(-6)\n",
    "arr = []                                                              # array for plotting\n",
    "\n",
    "accuracy = 1e-4                                                       # given accuracy\n",
    "r = 1.0                                                              # chosen initial value\n",
    "x1 = 1.0                                                              # initial value\n",
    "while abs(x1)>accuracy:                                               # looping for the accuracy\n",
    "  x1 = f(G, M, m, R, w, r) / df(G, M, m, R, w, r)                     # x1 = f(x)/f'(x)\n",
    "  r -= x1                                                            # r = r - x1 or r - f(x)/f'(x)\n",
    "\n",
    "print(r)\n",
    "\n"
   ]
  },
  {
   "cell_type": "markdown",
   "metadata": {},
   "source": [
    "<span style=\"color:blue\">Why while abs(x1) > accuracy? </span>"
   ]
  },
  {
   "cell_type": "markdown",
   "metadata": {},
   "source": [
    "<span style=\"color:blue\"> Short discussion of results? For example, what should be the literature value? </span>"
   ]
  },
  {
   "cell_type": "code",
   "execution_count": null,
   "metadata": {},
   "outputs": [],
   "source": []
  }
 ],
 "metadata": {
  "colab": {
   "provenance": []
  },
  "kernelspec": {
   "display_name": "Python 3 (ipykernel)",
   "language": "python",
   "name": "python3"
  },
  "language_info": {
   "codemirror_mode": {
    "name": "ipython",
    "version": 3
   },
   "file_extension": ".py",
   "mimetype": "text/x-python",
   "name": "python",
   "nbconvert_exporter": "python",
   "pygments_lexer": "ipython3",
   "version": "3.10.9"
  }
 },
 "nbformat": 4,
 "nbformat_minor": 1
}
