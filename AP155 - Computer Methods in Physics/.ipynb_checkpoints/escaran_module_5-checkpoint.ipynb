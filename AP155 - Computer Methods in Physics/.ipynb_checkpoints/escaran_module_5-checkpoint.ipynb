{
 "cells": [
  {
   "cell_type": "markdown",
   "metadata": {
    "id": "G0BcK0H_G1Iu"
   },
   "source": [
    "# **AP155 Lab Assignment**\n",
    "## Module 5: Partial Differential Equations\n",
    "\n",
    "_Instructions_: Answer each problem as completely as you can. Discuss **all** your answers as clearly and concisely as possible.\n",
    "\n",
    "_Scoring Criteria_: 50% - *correctness of code*; 50% - *discussion of the code and results*. Maximum score is **100 points**.\n",
    "\n"
   ]
  },
  {
   "cell_type": "markdown",
   "metadata": {
    "id": "PeHZ9kP8JaVR"
   },
   "source": [
    "### Student Information\n",
    "\n",
    "_Full Name (Last Name, First Name)_: Escaran, Jed Jerrel\\\n",
    "_Student No._: 2021-07451\\\n",
    "_Section_: HX-3"
   ]
  },
  {
   "cell_type": "markdown",
   "metadata": {
    "id": "Hc183co-J4eI"
   },
   "source": [
    "### Submission Information\n",
    "\n",
    "_Date and Time Submitted (most recent upload)_: 12/04/23 9:00PM\n",
    "\n",
    "**HONOR PLEDGE** I affirm that I have upheld the highest principles of honesty and integrity in my academic work and that this lab assignment is my own work.\n",
    "\n",
    "**Sign here with your full name:** Jed Jerrel Escaran"
   ]
  },
  {
   "cell_type": "markdown",
   "metadata": {
    "id": "ZfImNZs6FgGA"
   },
   "source": [
    "### Grading Information (c/o Lab Instructor)\n",
    "\n",
    "TOTAL SCORE: **[]**/100\n",
    "\n",
    "Score breakdown:\n",
    "* Problem 1 - 100/100\n",
    "\n",
    "_Date and Time Scored (MM/DD/YYYY HH:MM AM/PM):_<span style=\"color:blue\"> Very good. </span>"
   ]
  },
  {
   "cell_type": "markdown",
   "metadata": {
    "id": "LxWuqiCFMsEh"
   },
   "source": [
    "### PROBLEM 1\n",
    "**The Schrodinger equation and the Crank-Nicolson method**\n",
    "\n",
    "_Refer to Exercise 9.8 in the Newman text._ In this problem, you will use the Crank-Nicolson method to solve the full time-dependent Schrodinger equation and hence develop a picture of how a wavefunction evolves over time.\n",
    "\n",
    "Consider an electron (mass $M = 9.109 \\times 10^{-31}$ kg) in a box of length $L = 10^{-8}$ m. Suppose that at time $t = 0$ the wavefunction of the electron has the form\n",
    "\n",
    "$$ \\psi(x,0) = \\exp\\left[-\\frac{(x-x_0)^2}{2\\sigma^2}\\right]e^{i\\kappa x},$$\n",
    "where $x_0 = \\frac{L}{2}$, $\\sigma = 1 \\times 10^{-10}$ m, $\\kappa = 5 \\times 10^{10} {\\rm m}^{-1}$,  and $\\psi = 0$ on the walls at $x = 0$ and $x = L$."
   ]
  },
  {
   "cell_type": "markdown",
   "metadata": {
    "id": "VIkyCA1L2Vlt"
   },
   "source": [
    "1. Perform a single step of the Crank-Nicolson method for this electron, calculating the vector $\\psi(t)$ of values of the wavefunction, given the initial wavefunction above and using $N = 1000$ spatial slices with $a = L/N$. Your program will have to perform the following steps. First, given the vector $\\psi(0)$ at $t = 0$, you will have to multiply by the matrix $\\bf{B}$ to get a vector $\\bf{v} = \\bf{B}\\psi$. Because of the tridiagonal form of $\\bf{B}$, this is fairly simple. The $i$th component of $\\bf{v}$ is given by\n",
    "$$ v_i = b_1\\psi_i + b_2(\\psi_{i+1} + \\psi_{i-1}).$$\n",
    "\n",
    "   You will also have to choose a value for the time-step $h$. A reasonable choice is $h = 10^{-18}$ s. *(30 pts.)*\n",
    "\n",
    "2. Second you will have to solve the linear system ${\\bf Ax}= {\\bf v}$ for $\\bf{x}$, which gives you the new value of $\\psi$. You could do this using a standard linear equation solver like the function $\\tt solve$ in numpy's $\\tt linalg$. *(20 pts.)*\n",
    "\n",
    "3. Once you have the code in place to perform a single step of the calculation, extend your program to perform repeated steps and hence solve for $\\psi$ at a sequence of times a separation $h$ apart. Note that the matrix $\\bf A$ is independent of time, so it doesn't change from one step to another. You can set up the matrix just once and then keep on reusing it for every step. *(30 pts.)*\n",
    "\n",
    "4. Make an animation of the solution by displaying the real part of the wavefunction at each time-step. You can use the function rate from the package visual to ensure a smooth frame-rate for your animation-- see Section 3.5 on page 117 of the Newman text.\n",
    "\n",
    "   Run your animation for a while and describe what you see. Write a few sentences explaining in physics terms what is going on in the system. *(20 pts.)*"
   ]
  },
  {
   "cell_type": "markdown",
   "metadata": {},
   "source": [
    "#### importing banded function, from Mark Newman's Computational Physics Book"
   ]
  },
  {
   "cell_type": "code",
   "execution_count": 1,
   "metadata": {
    "id": "PyD-xkP4HoNS"
   },
   "outputs": [],
   "source": [
    "import numpy as np\n",
    "def banded(Aa,va,up,down):        \n",
    "\n",
    "    # Copy the inputs and determine the size of the system\n",
    "    A = np.copy(Aa)\n",
    "    v = np.copy(va)\n",
    "    N = len(v)\n",
    "\n",
    "    # Gaussian elimination\n",
    "    for m in range(N):\n",
    "\n",
    "        # Normalization factor\n",
    "        div = A[up,m]\n",
    "\n",
    "        # Update the vector first\n",
    "        v[m] /= div\n",
    "        for k in range(1,down+1):\n",
    "            if m+k<N:\n",
    "                v[m+k] -= A[up+k,m]*v[m]\n",
    "\n",
    "        # Now normalize the pivot row of A and subtract from lower ones\n",
    "        for i in range(up):\n",
    "            j = m + up - i\n",
    "            if j<N:\n",
    "                A[i,j] /= div\n",
    "                for k in range(1,down+1):\n",
    "                    A[i+k,j] -= A[up+k,m]*A[i,j]\n",
    "\n",
    "    # Backsubstitution\n",
    "    for m in range(N-2,-1,-1):\n",
    "        for i in range(up):\n",
    "            j = m + up - i\n",
    "            if j<N:\n",
    "                v[m] -= A[i,j]*v[j]\n",
    "\n",
    "    return v"
   ]
  },
  {
   "cell_type": "markdown",
   "metadata": {},
   "source": [
    "## main code"
   ]
  },
  {
   "cell_type": "code",
   "execution_count": 2,
   "metadata": {
    "colab": {
     "base_uri": "https://localhost:8080/",
     "height": 482
    },
    "id": "hMqWOsbIMoUh",
    "outputId": "a5c2fe56-1b75-4563-fc50-026db079307b"
   },
   "outputs": [
    {
     "name": "stderr",
     "output_type": "stream",
     "text": [
      "C:\\Users\\jed jerrel escaran\\AppData\\Local\\Programs\\Python\\Python311\\Lib\\site-packages\\matplotlib\\cbook\\__init__.py:1335: ComplexWarning: Casting complex values to real discards the imaginary part\n",
      "  return np.asarray(x, float)\n"
     ]
    },
    {
     "data": {
      "text/plain": [
       "[<matplotlib.lines.Line2D at 0x263ab3ef250>]"
      ]
     },
     "execution_count": 2,
     "metadata": {},
     "output_type": "execute_result"
    },
    {
     "data": {
      "image/png": "[encoded data removed]",
      "text/plain": [
       "<Figure size 640x480 with 1 Axes>"
      ]
     },
     "metadata": {},
     "output_type": "display_data"
    }
   ],
   "source": [
    "import matplotlib.pyplot as plt\n",
    "\n",
    "# constants for the simulation\n",
    "h = 1e-18             # time step\n",
    "hbar = 1.0546e-34     # reduced Planck's constant\n",
    "L = 1e-8              # length of the spatial domain\n",
    "M = 9.109e-31         # mass of the particle\n",
    "N = 1000              # number of spatial slices\n",
    "a = L/N               # spatial step size\n",
    "\n",
    "x_0 = L/2             # initial position of the wave packet\n",
    "sigma = 1e-10         # width of the wave packet\n",
    "k = 5e10              # wave number\n",
    "\n",
    "# coefficients for the tridiagonal matrix used in the Crank-Nicolson method\n",
    "a1 = 1 + h * ( (hbar*1j) / (2*M*a**2) )\n",
    "a2 = (-h*hbar*1j) / (4*M*a**2)\n",
    "b1 = 1 - ((h*hbar*1j) / (2*M*a**2))\n",
    "b2 = (h*hbar*1j)/(4*M*a**2)\n",
    "\n",
    "# initial wave function at time t=0\n",
    "def psi_t0(x):\n",
    "    return np.exp((-(x-x_0)**2)/(2*sigma**2)) * np.exp(1j*k*x)\n",
    "\n",
    "# wave function array\n",
    "psi = np.zeros(N+1, complex)\n",
    "\n",
    "# wave function array with initial conditions\n",
    "x = np.linspace(0, L, N+1)\n",
    "psi[:] = psi_t0(x)\n",
    "psi[[0, N]] = 0  # boundary conditions at x=0 and x=L\n",
    "\n",
    "# making a tridiagonal matrix A for the Crank-Nicolson method\n",
    "A = np.empty((3, N), complex)\n",
    "A[0, :] = a2\n",
    "A[1, :] = a1\n",
    "A[2:, ] = a2\n",
    "\n",
    "fig = plt.figure()\n",
    "\n",
    "# time evolution loop \n",
    "for i in range(1): # to get single-step of the Crank-Nicolson method, range was set to 1\n",
    "    # right-hand side of the Crank-Nicolson equation\n",
    "    v = b1 * psi[1:N] + b2 * (psi[2:N+1] + psi[0:N-1])\n",
    "    # solving tridiagonal linear system using banded function provided above\n",
    "    psi[1:N] = banded(A, v, 1, 1)\n",
    "\n",
    "# plotting single step    \n",
    "plt.title('single step of the Crank-Nicolson method')\n",
    "plt.xlabel('distance')\n",
    "plt.ylabel('ψ(x)')\n",
    "plt.plot(psi)\n"
   ]
  },
  {
   "cell_type": "code",
   "execution_count": 3,
   "metadata": {},
   "outputs": [],
   "source": [
    "# time evolution loop to extend program and perform repeated steps\n",
    "for i in range(4000): # i chose 4000 to give the particle enough time to bounce around (for animation)\n",
    "    # right-hand side of the Crank-Nicolson equation\n",
    "    v = b1 * psi[1:N] + b2 * (psi[2:N+1] + psi[0:N-1])\n",
    "    # solving tridiagonal linear system using banded function provided above\n",
    "    psi[1:N] = banded(A, v, 1, 1)"
   ]
  },
  {
   "cell_type": "markdown",
   "metadata": {},
   "source": [
    "### to animate, figures were saved and fed to a png-to-gif animator online.\n"
   ]
  },
  {
   "cell_type": "code",
   "execution_count": 4,
   "metadata": {},
   "outputs": [],
   "source": [
    "# if i%10==0:\n",
    "#     plt.figure()\n",
    "#     plt.title('Particle in a Box')\n",
    "#     plt.ylim(-1.1,1.1)\n",
    "#     plt.xlabel(r'distance x')\n",
    "#     plt.ylabel(r'$\\psi(x)$')\n",
    "#     plt.plot(x,psi)\n",
    "#     plt.savefig(f\"{i}.png\")\n",
    "#     plt.close()\n",
    "#     print(i)"
   ]
  },
  {
   "cell_type": "markdown",
   "metadata": {},
   "source": [
    "![gif](ani.gif)"
   ]
  },
  {
   "cell_type": "markdown",
   "metadata": {},
   "source": [
    "The given initial wavefunction describes a Gaussian wave packet with an additional oscillatory factor, representing an electron in a box of length L. The Gaussian part ($\\exp\\left[-\\frac{(x - x_0)^2}{2\\sigma^2}\\right]$) indicates a localized spatial distribution, and the oscillatory factor ($\\exp\\left[ikx\\right]$) introduces a wave-like behavior with a specific wave number κ. Since κ>0, the oscillatory term implies a positive spatial frequency, indicating a wave moving to the right. \n",
    "\n",
    "The spreading of the wave packet (increase in width and the decrease in height) are consequences of quantum mechanical phenomena, specifically the uncertainty principle. As time progresses, the initially well-localized wave packet spreads out in position space.\n",
    "\n",
    "The finite potential well (the box) introduces boundary conditions at x=0 and x=L. When the wave packet reaches the right boundary (x=L), it reflects or bounces back due to the constraints imposed by the box. When it bounces back, the waves experience both constructive and destructive interference then moves to the left. It bounces again at x=0, undergoes interferences, and moves back to the right.\n",
    "\n",
    "This behavior aligns with the expected outcomes of a quantum particle (electron) evolving in a confined potential well (box), as modeled by the time-dependent Schrödinger equation and solved using the Crank-Nicolson method.\n",
    "\n"
   ]
  }
 ],
 "metadata": {
  "colab": {
   "provenance": []
  },
  "kernelspec": {
   "display_name": "Python 3 (ipykernel)",
   "language": "python",
   "name": "python3"
  },
  "language_info": {
   "codemirror_mode": {
    "name": "ipython",
    "version": 3
   },
   "file_extension": ".py",
   "mimetype": "text/x-python",
   "name": "python",
   "nbconvert_exporter": "python",
   "pygments_lexer": "ipython3",
   "version": "3.10.9"
  }
 },
 "nbformat": 4,
 "nbformat_minor": 1
}
