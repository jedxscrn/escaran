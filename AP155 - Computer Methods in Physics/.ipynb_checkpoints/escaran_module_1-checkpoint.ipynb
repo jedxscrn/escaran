{
 "cells": [
  {
   "cell_type": "markdown",
   "metadata": {
    "id": "G0BcK0H_G1Iu"
   },
   "source": [
    "# **AP155 Lab Assignment**\n",
    "## Module 1: Integrals and Derivatives\n",
    "\n",
    "_Instructions_: Answer each problem as completely as you can. Discuss **all** your answers as clearly and concisely as possible.\n",
    "\n",
    "_Scoring Criteria_: 50% - *correctness of code*; 50% - *discussion of the code and results*. Maximum score is **100 points**.\n",
    "\n",
    "\n"
   ]
  },
  {
   "cell_type": "markdown",
   "metadata": {
    "id": "PeHZ9kP8JaVR"
   },
   "source": [
    "### Student Information\n",
    "\n",
    "_Full Name (Last Name, First Name)_: Escaran, Jed Jerrel\\\n",
    "_Student No._: 2021-07451\\\n",
    "_Section_: THU-HX-3"
   ]
  },
  {
   "cell_type": "markdown",
   "metadata": {
    "id": "Hc183co-J4eI"
   },
   "source": [
    "### Submission Information\n",
    "\n",
    "_Date and Time Submitted (most recent upload)_: 26 October 2023 1:47AM\n",
    "\n",
    "**HONOR PLEDGE** I affirm that I have upheld the highest principles of honesty and integrity in my academic work and that this lab assignment is my own work.\n",
    "\n",
    "**Sign here with your full name:** JED JERREL K. ESCARAN"
   ]
  },
  {
   "cell_type": "markdown",
   "metadata": {
    "id": "X1UGsRpW-eQs"
   },
   "source": [
    "### Grading Information (c/o Lab Instructor)\n",
    "\n",
    "TOTAL SCORE: **XX**/100\n",
    "\n",
    "Score breakdown:\n",
    "* Problem 1 - 30/30\n",
    "* Problem 2 - 30/30\n",
    "* Problem 3 - 40/40\n",
    "\n",
    "_Date and Time Scored (MM/DD/YYYY HH:MM AM/PM):_"
   ]
  },
  {
   "cell_type": "markdown",
   "metadata": {
    "id": "LxWuqiCFMsEh"
   },
   "source": [
    "### PROBLEM 1\n",
    "**Integration using the trapezoidal rule and Simpson's rule**\n",
    "\n",
    "Calculate the integral of the function $ 2x^4 + 3x^2 + 4x + 5$ from $x=0$ to $x=5$.\n",
    "\n",
    "1. Do the numerical calculation using the trapezoidal rule with 10, 100, and 1,000 slices. Describe each step of the calculation clearly and concisely. *(10 pts.)*\n",
    "\n",
    "2. What are the percentage errors of your answers in (1)? *(10 pts.)*\n",
    "\n",
    "3. Repeat the calculation using Simpson's rule with 10, 100, and 1,000 slices. Describe each step of the calculation clearly and concisely. *(5 pts.)*\n",
    "\n",
    "4. What are the percentage errors of your answers in (3)? How do they compare with the results from (1) for the same number of slices? *(5 pts.)*"
   ]
  },
  {
   "cell_type": "code",
   "execution_count": 108,
   "metadata": {
    "colab": {
     "base_uri": "https://localhost:8080/"
    },
    "id": "hMqWOsbIMoUh",
    "outputId": "3d67b750-5b4e-49f3-9f7d-b7479e13e034"
   },
   "outputs": [
    {
     "name": "stdout",
     "output_type": "stream",
     "text": [
      "for n = 10: 1471.4375 with percentage error of 1.478448275862069\n",
      "for n = 100: 1450.2145812500003 with percentage error of 0.014798706896569988\n",
      "for n = 1000: 1450.0021458331234 with percentage error of 0.00014798849127240326\n"
     ]
    }
   ],
   "source": [
    "def f(x):\n",
    "  return 2*x**4 + 3*x**2 + 4*x + 5\n",
    "\n",
    "def trap(n):                  # n is number of slices/steps\n",
    "  a = 0.0                     # lower bound\n",
    "  b = 5.0                     # upper bound\n",
    "  h = (b-a)/n                 # distance between points or width (base)\n",
    "\n",
    "  #   since the trapezoids in the middle share a side/height with their adjacent trapezoids,\n",
    "  #   the \"averaging\" (for the two heights) or 0.5 in the trapezoid formula gets cancelled\n",
    "  #   out since the heights in between a and b are in multiples of 2 except for the first\n",
    "  #   height f(a) and last height f(b) which is why s initial value is:\n",
    "\n",
    "  s = 0.5*f(a) + 0.5*f(b)     # initial s value ; weights are 1/2\n",
    "  for i in range(1,n):        # looping over each step\n",
    "    s += f(a+i*h)             # summing the other heights\n",
    "  return (h*s)                # multiplying s to h (base) to get the area\n",
    "\n",
    "Ns = [10,100,1000]            # diff n's\n",
    "for i in Ns:\n",
    "  print(\"for n = \" + str(i) + \": \" + str(trap(i)) + \" with percentage error of \" + str(abs((trap(i)-1450)/1450)*100) ) #print results and %error"
   ]
  },
  {
   "cell_type": "code",
   "execution_count": 109,
   "metadata": {
    "colab": {
     "base_uri": "https://localhost:8080/"
    },
    "id": "eWM_PogXifo4",
    "outputId": "12ca122d-d08e-45dd-d1d9-99b523a5b52c"
   },
   "outputs": [
    {
     "name": "stdout",
     "output_type": "stream",
     "text": [
      "for n = 10: 1450.0833333333333 with percentage error of 0.005747126436776382\n",
      "for n = 100: 1450.0000083333337 with percentage error of 5.747126657485657e-07\n",
      "for n = 1000: 1450.0000000008342 with percentage error of 5.753338035870472e-11\n"
     ]
    }
   ],
   "source": [
    "def simp(n, a, b):\n",
    "  h = (b-a)/n              #distance between slices\n",
    "\n",
    "  s = f(a)+f(b)            # initial s\n",
    "  for i in range(1,n,2):   # odd values of i\n",
    "    s += 4*f(a+i*h)        # 4/3 weight\n",
    "  for i in range(2,n,2):   # even values of i\n",
    "    s += 2*f(a+i*h)        # 2/3 weight\n",
    "  s = s*(1./3)*h           # weights are 1/3 for first and last slice\n",
    "  return s\n",
    "\n",
    "for i in Ns:\n",
    "  print(\"for n = \" + str(i) + \": \" + str(simp(i,a,b)) + \" with percentage error of \" + str(abs((simp(i,a,b)-1450)/1450)*100) )\n",
    "  # comparing the percent errors from both methods, simpson's rule percentage error is almost negligible,\n",
    "  # whereas the percent errors in the trapezoidal method is still significant"
   ]
  },
  {
   "cell_type": "markdown",
   "metadata": {
    "id": "m2a6sg90R-NX"
   },
   "source": [
    "### PROBLEM 2\n",
    "\n",
    "**Integration using Gaussian quadrature**\n",
    "\n",
    "Calculate the integral from Problem 1 using the Gaussian quadrature method: $ 2x^4 + 3x^2 + 4x + 5$ from $x=0$ to $x=5$.\n",
    "\n",
    "1. Define the function $\\tt gaussxw$ from Appendix E of the Newman text (and run the cell). *(10 pts.)*\n",
    "\n",
    "2. Calculate the integral using the $\\tt gaussxw$ function in (1) and number of slices $N = 3$. Describe each step in the calculation clearly and concisely. *(20 pts.)*"
   ]
  },
  {
   "cell_type": "code",
   "execution_count": 110,
   "metadata": {
    "id": "YO_PDJ4VIVs5"
   },
   "outputs": [],
   "source": [
    "from numpy import ones,copy,cos,tan,pi,linspace\n",
    "\n",
    "def gaussxw(N):                     # This function returns the sample points and weights for Gaussian quadrature (given the number of sample points N)\n",
    "  a = linspace(3,4*N-1,N)/(4*N+2)\n",
    "  x = cos(pi*a+1/(8*N*N*tan(a)))\n",
    "  epsilon = 1e-15\n",
    "  delta = 1.0\n",
    "  while delta>epsilon:\n",
    "    p0 = ones(N,float)\n",
    "    p1 = copy(x)\n",
    "    for k in range(1,N):\n",
    "      p0,p1 = p1,((2*k+1)*x*p1-k*p0)/(k+1)\n",
    "    dp = (N+1)*(p0-x*p1)/(1-x*x)\n",
    "    dx = p1/dp\n",
    "    x -= dx\n",
    "    delta= max(abs(dx))\n",
    "\n",
    "  w = 2*(N+1)*(N+1)/(N*N*(1-x*x)*dp*dp)\n",
    "  return x,w"
   ]
  },
  {
   "cell_type": "code",
   "execution_count": 111,
   "metadata": {
    "colab": {
     "base_uri": "https://localhost:8080/"
    },
    "id": "YhJKsjhVKt-k",
    "outputId": "ce82233d-8e97-48cd-923e-273ad1f9f8a5"
   },
   "outputs": [
    {
     "name": "stdout",
     "output_type": "stream",
     "text": [
      "1450.000000000002\n"
     ]
    }
   ],
   "source": [
    "def gauss(N,a,b):\n",
    "  x,w = gaussxw(N)            #  sample points and weights\n",
    "  xp = 0.5*(b-a)*x+0.5*(b+a)  #  rescaling to given domain\n",
    "  wp = 0.5*(b-a)*w            #  rescaling to given domain\n",
    "\n",
    "  s = 0.0                     #  initial s\n",
    "  for i in range(N):          #  looping over all N\n",
    "    s+=wp[i]*f(xp[i])         #  summing to get estimate for integral\n",
    "\n",
    "  return s\n",
    "\n",
    "print(gauss(3,0,5))           #  3 for number of slices; x = 0 and 5 as bounds"
   ]
  },
  {
   "cell_type": "markdown",
   "metadata": {
    "id": "HceOjNu-VfN9"
   },
   "source": [
    "### PROBLEM 3\n",
    "\n",
    "**Physics Application: Anharmonic Oscillator**\n",
    "\n",
    "_Refer to Exercise 5.10 of the Newman text._ Consider an anharmonic oscillator with potential $V(x)$ symmetric about $x = 0$. Let us set our anharmonic oscillator going with amplitude $a$. That is, at $t = 0$ we release it from rest at position $x = a$ and it swings back towards the origin. Then at $t = 0$ we have $dx/dt = 0$ and the equation for its total energy becomes $E = V(a)$, i.e., the total energy of the particle is given in terms of the amplitude.\n",
    "\n",
    "When the particle reaches the origin for the first time, it has gone through one quarter of a period of the oscillator. The period $T$ is given by: $$ T = \\sqrt{8m} \\int_0^a \\frac{dx}{\\sqrt{V(a)-V(x)}}. $$\n",
    "\n",
    "1. Suppose the potential is $V(x) = x^4$ and the mass of the particle is $m = 1$. Write a Python function that calculates the period of the oscillator for given amplitude a using Gaussian quadrature with $N = 20$ points. Describe each step clearly and concisely. *(20 pts.)*\n",
    "\n",
    "2. Use your function to make a graph of the period for amplitudes ranging from $a = 0$ to $a = 2$. Describe the behavior you find and explain these results clearly and concisely. *(20 pts.)*"
   ]
  },
  {
   "cell_type": "code",
   "execution_count": 112,
   "metadata": {
    "colab": {
     "base_uri": "https://localhost:8080/"
    },
    "id": "BeIYGlzBmsdA",
    "outputId": "b1e7d45f-3bc7-4651-eaf1-aeefe523516d"
   },
   "outputs": [
    {
     "name": "stdout",
     "output_type": "stream",
     "text": [
      "amplitude: 1\n",
      "period: 3.648094084043215\n"
     ]
    }
   ],
   "source": [
    "import matplotlib.pyplot as plt\n",
    "from math import sqrt\n",
    "\n",
    "m = 1                                             #  mass\n",
    "N = 20                                            #  points\n",
    "a = 0                                             #  lower bound\n",
    "\n",
    "amplitude = float(input(\"amplitude: \"))           #  input amplitude\n",
    "\n",
    "def T(x,amp):                                     #  period T equation\n",
    "  return sqrt(8*m)/sqrt(amp**4-x**4)\n",
    "\n",
    "def gauss(N,b):\n",
    "  x,w = gaussxw(N)                                #  sample points and weights\n",
    "  xp = 0.5*(b-a)*x + 0.5*(b+a)                    #  rescaling to given domain\n",
    "  wp = 0.5*(b-a)*w                                #  rescaling to given domain\n",
    "\n",
    "  s = 0.0                                         #  initial\n",
    "  for i in range(N):                              #  looping over all N\n",
    "    s += wp[i] * T(xp[i],b)                       #  summing to get estimate for integral\n",
    "\n",
    "  return s\n",
    "\n",
    "print(\"period: \" + str(gauss(N, amplitude)))      #  print period"
   ]
  },
  {
   "cell_type": "code",
   "execution_count": 113,
   "metadata": {
    "colab": {
     "base_uri": "https://localhost:8080/",
     "height": 472
    },
    "id": "p28JF-OQYock",
    "outputId": "5a5358b9-b875-40c2-ce31-3e5cdfd0e03e"
   },
   "outputs": [
    {
     "data": {
      "image/png": "[encoded data removed]",
      "text/plain": [
       "<Figure size 640x480 with 1 Axes>"
      ]
     },
     "metadata": {},
     "output_type": "display_data"
    }
   ],
   "source": [
    "s = list()                              #  initiating list for plot\n",
    "amps = linspace(0.1,2,N)                #  a from 0 to 2\n",
    "\n",
    "for amp in amps:\n",
    "  s.append(gauss(N, amp))               #  appending resulting periods into list for easy plotting\n",
    "\n",
    "                                        #  plot stuff\n",
    "\n",
    "plt.title(\"Period for amplitudes ranging from  a=0  to  a=2\")\n",
    "plt.xlabel(\"Amplitude (m)\")\n",
    "plt.ylabel(\"Period (s)\")\n",
    "plt.plot(amps,s,'k:')\n",
    "plt.show()"
   ]
  },
  {
   "cell_type": "markdown",
   "metadata": {
    "id": "mJLKerPs4Tqd"
   },
   "source": [
    " as amplitude increases, period decreases; which indicates the oscillator getting faster even though the particle has to traverse the increasing amplitude. This is due to the restoring force which gets stronger the larger amplitude gets."
   ]
  }
 ],
 "metadata": {
  "colab": {
   "provenance": []
  },
  "kernelspec": {
   "display_name": "Python 3 (ipykernel)",
   "language": "python",
   "name": "python3"
  },
  "language_info": {
   "codemirror_mode": {
    "name": "ipython",
    "version": 3
   },
   "file_extension": ".py",
   "mimetype": "text/x-python",
   "name": "python",
   "nbconvert_exporter": "python",
   "pygments_lexer": "ipython3",
   "version": "3.10.9"
  }
 },
 "nbformat": 4,
 "nbformat_minor": 1
}
